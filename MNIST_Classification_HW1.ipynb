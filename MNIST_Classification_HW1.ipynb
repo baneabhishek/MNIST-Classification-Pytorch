{
  "nbformat": 4,
  "nbformat_minor": 0,
  "metadata": {
    "colab": {
      "name": "MNIST Classification - HW1.ipynb",
      "version": "0.3.2",
      "provenance": [],
      "collapsed_sections": []
    },
    "kernelspec": {
      "name": "python3",
      "display_name": "Python 3"
    },
    "accelerator": "GPU"
  },
  "cells": [
    {
      "cell_type": "code",
      "metadata": {
        "id": "b0bOHbVDXbE8",
        "colab_type": "code",
        "colab": {}
      },
      "source": [
        "import numpy as np\n",
        "import torch\n",
        "import torch.nn as nn"
      ],
      "execution_count": 0,
      "outputs": []
    },
    {
      "cell_type": "code",
      "metadata": {
        "id": "MlxUDOmnZM2U",
        "colab_type": "code",
        "colab": {
          "base_uri": "https://localhost:8080/",
          "height": 127
        },
        "outputId": "19a9cacc-f3f6-47e2-d26c-3364bb7567ac"
      },
      "source": [
        "from google.colab import drive\n",
        "drive.mount('/content/gdrive')"
      ],
      "execution_count": 2,
      "outputs": [
        {
          "output_type": "stream",
          "text": [
            "Go to this URL in a browser: https://accounts.google.com/o/oauth2/auth?client_id=947318989803-6bn6qk8qdgf4n4g3pfee6491hc0brc4i.apps.googleusercontent.com&redirect_uri=urn%3Aietf%3Awg%3Aoauth%3A2.0%3Aoob&scope=email%20https%3A%2F%2Fwww.googleapis.com%2Fauth%2Fdocs.test%20https%3A%2F%2Fwww.googleapis.com%2Fauth%2Fdrive%20https%3A%2F%2Fwww.googleapis.com%2Fauth%2Fdrive.photos.readonly%20https%3A%2F%2Fwww.googleapis.com%2Fauth%2Fpeopleapi.readonly&response_type=code\n",
            "\n",
            "Enter your authorization code:\n",
            "··········\n",
            "Mounted at /content/gdrive\n"
          ],
          "name": "stdout"
        }
      ]
    },
    {
      "cell_type": "code",
      "metadata": {
        "id": "h2SePf-3Zcp2",
        "colab_type": "code",
        "colab": {}
      },
      "source": [
        "import torchvision\n",
        "import torchvision.datasets as datasets\n",
        "import torchvision.transforms as transforms"
      ],
      "execution_count": 0,
      "outputs": []
    },
    {
      "cell_type": "code",
      "metadata": {
        "id": "Pu5t8IO5XycQ",
        "colab_type": "code",
        "colab": {}
      },
      "source": [
        "train_loader = torch.utils.data.DataLoader(datasets.MNIST(\"/content/gdrive/My Drive/MNIST Data\",train=True, download=True,\n",
        "               transform=transforms.Compose([transforms.ToTensor(),transforms.Normalize((0.1307,), (0.3081,))])),\n",
        "               batch_size=128, shuffle=True)\n",
        "\n",
        "test_loader = torch.utils.data.DataLoader(datasets.MNIST(\"/content/gdrive/My Drive/MNIST Data\", train=False, download=True,\n",
        "              transform=transforms.Compose([transforms.ToTensor(),transforms.Normalize((0.1307,), (0.3081,))])),\n",
        "              batch_size=128, shuffle=True)"
      ],
      "execution_count": 0,
      "outputs": []
    },
    {
      "cell_type": "markdown",
      "metadata": {
        "id": "WarVWKWPfgBq",
        "colab_type": "text"
      },
      "source": [
        "**Display a few Images**"
      ]
    },
    {
      "cell_type": "code",
      "metadata": {
        "id": "MDP0UKDYgDt-",
        "colab_type": "code",
        "colab": {}
      },
      "source": [
        "import matplotlib.pyplot as plt"
      ],
      "execution_count": 0,
      "outputs": []
    },
    {
      "cell_type": "code",
      "metadata": {
        "id": "ePG4gwlegMgF",
        "colab_type": "code",
        "colab": {}
      },
      "source": [
        "batch_id, (plot_data,target) = next(enumerate(train_loader))"
      ],
      "execution_count": 0,
      "outputs": []
    },
    {
      "cell_type": "code",
      "metadata": {
        "id": "qgN3lhuuh2B4",
        "colab_type": "code",
        "colab": {
          "base_uri": "https://localhost:8080/",
          "height": 286
        },
        "outputId": "37e44fd8-bad0-426c-9e7d-f68991664458"
      },
      "source": [
        "print (plot_data.shape)\n",
        "for i in range(0,6):\n",
        "  plt.subplot(2,3,i+1)\n",
        "  plt.imshow(plot_data[i][0])"
      ],
      "execution_count": 7,
      "outputs": [
        {
          "output_type": "stream",
          "text": [
            "torch.Size([128, 1, 28, 28])\n"
          ],
          "name": "stdout"
        },
        {
          "output_type": "display_data",
          "data": {
            "image/png": "[encoded data removed]",
            "text/plain": [
              "<Figure size 432x288 with 6 Axes>"
            ]
          },
          "metadata": {
            "tags": []
          }
        }
      ]
    },
    {
      "cell_type": "code",
      "metadata": {
        "id": "f4B6oR3_-ZAx",
        "colab_type": "code",
        "colab": {}
      },
      "source": [
        ""
      ],
      "execution_count": 0,
      "outputs": []
    },
    {
      "cell_type": "code",
      "metadata": {
        "id": "baIB7C-Qh7hC",
        "colab_type": "code",
        "colab": {}
      },
      "source": [
        "import torch.nn.functional as F"
      ],
      "execution_count": 0,
      "outputs": []
    },
    {
      "cell_type": "code",
      "metadata": {
        "id": "DyT5gKzCzxLp",
        "colab_type": "code",
        "colab": {}
      },
      "source": [
        "class Network(torch.nn.Module):\n",
        "  def __init__(self, D_in, H, D_out):\n",
        "    super(Network, self).__init__()\n",
        "    self.linear1 = torch.nn.Linear(D_in,H)\n",
        "    self.linear2 = torch.nn.Linear(H,H)\n",
        "    self.linear3 = torch.nn.Linear(H,H)\n",
        "    self.linear4 = torch.nn.Linear(H,H)\n",
        "    self.linear5 = torch.nn.Linear(H,H)\n",
        "    self.linear6 = torch.nn.Linear(H,D_out)\n",
        "    self.softmax = nn.Softmax()\n",
        "\n",
        "  def forward(self, x):\n",
        "    output1 = self.linear1(x).clamp(min=0)\n",
        "    output2 = self.linear2(output1).clamp(min=0)\n",
        "    output3 = self.linear3(output2).clamp(min=0)\n",
        "    output4 = self.linear4(output3).clamp(min=0)\n",
        "    output5 = self.linear5(output4).clamp(min=0)\n",
        "    output6 = self.linear6(output5)\n",
        "    output = self.softmax(output6)\n",
        "    return output"
      ],
      "execution_count": 0,
      "outputs": []
    },
    {
      "cell_type": "code",
      "metadata": {
        "id": "WAR02yyHHmWs",
        "colab_type": "code",
        "colab": {}
      },
      "source": [
        "N, D_in, D_out, H = 128, 784, 10, 1024"
      ],
      "execution_count": 0,
      "outputs": []
    },
    {
      "cell_type": "code",
      "metadata": {
        "id": "_LVsmhflH1Oe",
        "colab_type": "code",
        "colab": {
          "base_uri": "https://localhost:8080/",
          "height": 179
        },
        "outputId": "acc636b4-3cd0-45ed-88da-11665ce367f4"
      },
      "source": [
        "epochs = 10\n",
        "learning_rate = 0.01\n",
        "model = Network(D_in, H, D_out)\n",
        "lossFunction = torch.nn.CrossEntropyLoss()\n",
        "optimizer = torch.optim.Adam(model.parameters(), lr=learning_rate)\n",
        "print (model)"
      ],
      "execution_count": 11,
      "outputs": [
        {
          "output_type": "stream",
          "text": [
            "Network(\n",
            "  (linear1): Linear(in_features=784, out_features=1024, bias=True)\n",
            "  (linear2): Linear(in_features=1024, out_features=1024, bias=True)\n",
            "  (linear3): Linear(in_features=1024, out_features=1024, bias=True)\n",
            "  (linear4): Linear(in_features=1024, out_features=1024, bias=True)\n",
            "  (linear5): Linear(in_features=1024, out_features=1024, bias=True)\n",
            "  (linear6): Linear(in_features=1024, out_features=10, bias=True)\n",
            "  (softmax): Softmax()\n",
            ")\n"
          ],
          "name": "stdout"
        }
      ]
    },
    {
      "cell_type": "code",
      "metadata": {
        "id": "_iJZPVNOIfzt",
        "colab_type": "code",
        "colab": {
          "base_uri": "https://localhost:8080/",
          "height": 163
        },
        "outputId": "f73401d9-0969-4712-e646-ac5617db032f"
      },
      "source": [
        "for epoch in range(0,epochs):\n",
        "  for i, (images,labels) in enumerate(train_loader):\n",
        "    images = images.reshape(-1,28*28)\n",
        "    # show_batch(images)\n",
        "    y_pred = model(images)\n",
        "    loss = lossFunction(y_pred, labels)\n",
        "    optimizer.zero_grad()\n",
        "    loss.backward()\n",
        "    optimizer.step()\n",
        "    if i % 100 == 99:\n",
        "        print(i, loss.item())"
      ],
      "execution_count": 0,
      "outputs": [
        {
          "output_type": "stream",
          "text": [
            "/usr/local/lib/python3.6/dist-packages/ipykernel_launcher.py:19: UserWarning: Implicit dimension choice for softmax has been deprecated. Change the call to include dim=X as an argument.\n"
          ],
          "name": "stderr"
        },
        {
          "output_type": "stream",
          "text": [
            "99 2.367400884628296\n",
            "199 2.398650884628296\n",
            "299 2.351775884628296\n",
            "399 2.320525884628296\n",
            "99 2.367400884628296\n",
            "199 2.367400884628296\n"
          ],
          "name": "stdout"
        }
      ]
    },
    {
      "cell_type": "code",
      "metadata": {
        "id": "4FRSsaMuMYC7",
        "colab_type": "code",
        "colab": {}
      },
      "source": [
        ""
      ],
      "execution_count": 0,
      "outputs": []
    }
  ]
}